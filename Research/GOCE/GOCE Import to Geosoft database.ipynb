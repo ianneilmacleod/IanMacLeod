{
 "cells": [
  {
   "cell_type": "markdown",
   "metadata": {},
   "source": [
    "# Context\n",
    "\n",
    "Importing GOCE datasets provided by Colin Reeves, 2018-4-27\n",
    "\n",
    "I assume these are derivatives in each direction:\n",
    "\n",
    "U_XX.dat\n",
    "U_YY.dat\n",
    "U_ZZ.dat\n",
    "\n",
    "These are locations on an unknown datum:\n",
    "\n",
    "lon.dat\n",
    "lat.dat\n",
    "\n",
    "Looking at the data the points are not uniform.  \n"
   ]
  },
  {
   "cell_type": "code",
   "execution_count": 1,
   "metadata": {},
   "outputs": [],
   "source": [
    "import geosoft.gxpy.gx as gx\n",
    "gxc = gx.GXpy()"
   ]
  },
  {
   "cell_type": "code",
   "execution_count": 3,
   "metadata": {},
   "outputs": [],
   "source": [
    "import os\n",
    "os.chdir('G:\\\\Projects\\\\GOCE\\\\From Colin, 2018-3-27')"
   ]
  },
  {
   "cell_type": "code",
   "execution_count": 4,
   "metadata": {},
   "outputs": [],
   "source": [
    "with open('Colin Reeves - lat.dat') as f:\n",
    "    _lats = f.readline().split()\n",
    "lats = [float(l) for l in _lats]"
   ]
  },
  {
   "cell_type": "code",
   "execution_count": 5,
   "metadata": {},
   "outputs": [],
   "source": [
    "lons = []\n",
    "with open('Colin Reeves - lon.dat') as f:\n",
    "    lons = [float(line.split()[0]) for line in f]"
   ]
  },
  {
   "cell_type": "code",
   "execution_count": 6,
   "metadata": {},
   "outputs": [
    {
     "data": {
      "text/plain": [
       "(901, 451)"
      ]
     },
     "execution_count": 6,
     "metadata": {},
     "output_type": "execute_result"
    }
   ],
   "source": [
    "(len(lons), len(lats))"
   ]
  },
  {
   "cell_type": "code",
   "execution_count": 7,
   "metadata": {},
   "outputs": [],
   "source": [
    "import numpy as np\n",
    "def read_data(filename):\n",
    "    npd = np.empty((901, 451))\n",
    "    il = 0\n",
    "    with open(filename) as f:\n",
    "        for line in f:\n",
    "            values = line.split()\n",
    "            iv = 0\n",
    "            for v in values:\n",
    "                try:\n",
    "                    npd[il, iv] = float(v)\n",
    "                except:\n",
    "                    npd[il, iv] = np.nan\n",
    "                iv += 1\n",
    "            il += 1\n",
    "    return npd\n",
    "xx = read_data('Colin Reeves - u_xx.dat') * 1.0e12\n",
    "yy = read_data('Colin Reeves - u_yy.dat') * 1.0e12\n",
    "zz = read_data('Colin Reeves - u_zz.dat') * 1.0e12"
   ]
  },
  {
   "cell_type": "code",
   "execution_count": 8,
   "metadata": {},
   "outputs": [],
   "source": [
    "import geosoft.gxpy.gdb as gxgdb\n",
    "npxy = np.empty((901,2))\n",
    "npxy[:, 0] = lons\n",
    "with gxgdb.Geosoft_gdb.new('GOCE', max_lines=451, overwrite=True) as gdb:   \n",
    "    for i in range(451):\n",
    "        line = 'L{}'.format(i)\n",
    "        npxy[:, 1] = lats[i]\n",
    "        gdb.write_line(line, npxy, ['lon', 'lat'])\n",
    "        gdb.write_line(line, xx[:, i], ['xx'])\n",
    "        gdb.write_line(line, yy[:, i], ['yy'])\n",
    "        gdb.write_line(line, zz[:, i], ['zz'])"
   ]
  },
  {
   "cell_type": "code",
   "execution_count": null,
   "metadata": {},
   "outputs": [],
   "source": []
  }
 ],
 "metadata": {
  "kernelspec": {
   "display_name": "Python 3",
   "language": "python",
   "name": "python3"
  },
  "language_info": {
   "codemirror_mode": {
    "name": "ipython",
    "version": 3
   },
   "file_extension": ".py",
   "mimetype": "text/x-python",
   "name": "python",
   "nbconvert_exporter": "python",
   "pygments_lexer": "ipython3",
   "version": "3.6.4"
  }
 },
 "nbformat": 4,
 "nbformat_minor": 2
}
